{
 "cells": [
  {
   "attachments": {},
   "cell_type": "markdown",
   "metadata": {},
   "source": [
    "# Laboratorio 1\n",
    " - Juan José Osorio - 202021720\n",
    " - Pablo Guatibonza - 202014393 \n",
    " - Juan Sebastián Hoyos - 201822167\n",
    "##  1. Entendimiento de los datos\n",
    "### 1.1. Importación de librerías\n",
    "\n",
    "\n"
   ]
  },
  {
   "cell_type": "code",
   "execution_count": 4,
   "metadata": {},
   "outputs": [],
   "source": [
    "import pandas as pd\n",
    "import numpy as np\n",
    "import matplotlib.pyplot as plt\n",
    "from sklearn.cluster import KMeans\n",
    "import seaborn as sns; sns.set()  # for plot styling"
   ]
  },
  {
   "attachments": {},
   "cell_type": "markdown",
   "metadata": {},
   "source": [
    "### 1.2. Carga de los datos\n"
   ]
  },
  {
   "cell_type": "code",
   "execution_count": 5,
   "metadata": {},
   "outputs": [],
   "source": [
    "df_bicialpes = pd.read_csv(\n",
    "    './datos/datosBiciAlpes.csv', \n",
    "    sep = ';', \n",
    "    encoding = 'ISO-8859-1', \n",
    "    index_col = False,\n",
    "    )\n"
   ]
  },
  {
   "attachments": {},
   "cell_type": "markdown",
   "metadata": {},
   "source": [
    "### 1.3. Entendimiento de los datos"
   ]
  },
  {
   "cell_type": "code",
   "execution_count": 6,
   "metadata": {},
   "outputs": [
    {
     "data": {
      "text/plain": [
       "(5338, 14)"
      ]
     },
     "execution_count": 6,
     "metadata": {},
     "output_type": "execute_result"
    }
   ],
   "source": [
    "df_bicialpes.shape"
   ]
  },
  {
   "cell_type": "code",
   "execution_count": 7,
   "metadata": {},
   "outputs": [
    {
     "data": {
      "text/html": [
       "<div>\n",
       "<style scoped>\n",
       "    .dataframe tbody tr th:only-of-type {\n",
       "        vertical-align: middle;\n",
       "    }\n",
       "\n",
       "    .dataframe tbody tr th {\n",
       "        vertical-align: top;\n",
       "    }\n",
       "\n",
       "    .dataframe thead th {\n",
       "        text-align: right;\n",
       "    }\n",
       "</style>\n",
       "<table border=\"1\" class=\"dataframe\">\n",
       "  <thead>\n",
       "    <tr style=\"text-align: right;\">\n",
       "      <th></th>\n",
       "      <th>Time</th>\n",
       "      <th>Number_of_Casualties</th>\n",
       "      <th>Day_of_Week</th>\n",
       "      <th>Road_Type</th>\n",
       "      <th>Speed_limit</th>\n",
       "      <th>Light_Conditions</th>\n",
       "      <th>Weather_Conditions</th>\n",
       "      <th>Road_Surface_Conditions</th>\n",
       "      <th>Urban_or_Rural_Area</th>\n",
       "      <th>Vehicle_Type</th>\n",
       "      <th>Did_Police_Officer_Attend_Scene_of_Accident</th>\n",
       "      <th>Junction_Detail</th>\n",
       "      <th>Number_of_Vehicles</th>\n",
       "      <th>Accident_Severity</th>\n",
       "    </tr>\n",
       "  </thead>\n",
       "  <tbody>\n",
       "    <tr>\n",
       "      <th>0</th>\n",
       "      <td>Mañana</td>\n",
       "      <td>1</td>\n",
       "      <td>Día laboral</td>\n",
       "      <td>6</td>\n",
       "      <td>30.0</td>\n",
       "      <td>1</td>\n",
       "      <td>1</td>\n",
       "      <td>1</td>\n",
       "      <td>1</td>\n",
       "      <td>bike</td>\n",
       "      <td>1</td>\n",
       "      <td>3</td>\n",
       "      <td>1</td>\n",
       "      <td>3</td>\n",
       "    </tr>\n",
       "    <tr>\n",
       "      <th>1</th>\n",
       "      <td>Mañana</td>\n",
       "      <td>1</td>\n",
       "      <td>Día laboral</td>\n",
       "      <td>6</td>\n",
       "      <td>30.0</td>\n",
       "      <td>1</td>\n",
       "      <td>1</td>\n",
       "      <td>1</td>\n",
       "      <td>1</td>\n",
       "      <td>bike</td>\n",
       "      <td>1</td>\n",
       "      <td>0</td>\n",
       "      <td>1</td>\n",
       "      <td>3</td>\n",
       "    </tr>\n",
       "    <tr>\n",
       "      <th>2</th>\n",
       "      <td>Tarde</td>\n",
       "      <td>1</td>\n",
       "      <td>Fin de semana</td>\n",
       "      <td>6</td>\n",
       "      <td>30.0</td>\n",
       "      <td>1</td>\n",
       "      <td>1</td>\n",
       "      <td>1</td>\n",
       "      <td>1</td>\n",
       "      <td>bike</td>\n",
       "      <td>1</td>\n",
       "      <td>3</td>\n",
       "      <td>1</td>\n",
       "      <td>3</td>\n",
       "    </tr>\n",
       "    <tr>\n",
       "      <th>3</th>\n",
       "      <td>Tarde</td>\n",
       "      <td>2</td>\n",
       "      <td>Día laboral</td>\n",
       "      <td>6</td>\n",
       "      <td>30.0</td>\n",
       "      <td>1</td>\n",
       "      <td>1</td>\n",
       "      <td>1</td>\n",
       "      <td>1</td>\n",
       "      <td>bike</td>\n",
       "      <td>1</td>\n",
       "      <td>6</td>\n",
       "      <td>1</td>\n",
       "      <td>2</td>\n",
       "    </tr>\n",
       "    <tr>\n",
       "      <th>4</th>\n",
       "      <td>Mañana</td>\n",
       "      <td>2</td>\n",
       "      <td>Día laboral</td>\n",
       "      <td>6</td>\n",
       "      <td>30.0</td>\n",
       "      <td>1</td>\n",
       "      <td>1</td>\n",
       "      <td>1</td>\n",
       "      <td>1</td>\n",
       "      <td>bike</td>\n",
       "      <td>1</td>\n",
       "      <td>6</td>\n",
       "      <td>1</td>\n",
       "      <td>3</td>\n",
       "    </tr>\n",
       "  </tbody>\n",
       "</table>\n",
       "</div>"
      ],
      "text/plain": [
       "     Time  Number_of_Casualties    Day_of_Week  Road_Type  Speed_limit  \\\n",
       "0  Mañana                     1    Día laboral          6         30.0   \n",
       "1  Mañana                     1    Día laboral          6         30.0   \n",
       "2   Tarde                     1  Fin de semana          6         30.0   \n",
       "3   Tarde                     2    Día laboral          6         30.0   \n",
       "4  Mañana                     2    Día laboral          6         30.0   \n",
       "\n",
       "   Light_Conditions  Weather_Conditions  Road_Surface_Conditions  \\\n",
       "0                 1                   1                        1   \n",
       "1                 1                   1                        1   \n",
       "2                 1                   1                        1   \n",
       "3                 1                   1                        1   \n",
       "4                 1                   1                        1   \n",
       "\n",
       "   Urban_or_Rural_Area Vehicle_Type  \\\n",
       "0                    1         bike   \n",
       "1                    1         bike   \n",
       "2                    1         bike   \n",
       "3                    1         bike   \n",
       "4                    1         bike   \n",
       "\n",
       "   Did_Police_Officer_Attend_Scene_of_Accident  Junction_Detail  \\\n",
       "0                                            1                3   \n",
       "1                                            1                0   \n",
       "2                                            1                3   \n",
       "3                                            1                6   \n",
       "4                                            1                6   \n",
       "\n",
       "   Number_of_Vehicles  Accident_Severity  \n",
       "0                   1                  3  \n",
       "1                   1                  3  \n",
       "2                   1                  3  \n",
       "3                   1                  2  \n",
       "4                   1                  3  "
      ]
     },
     "execution_count": 7,
     "metadata": {},
     "output_type": "execute_result"
    }
   ],
   "source": [
    "df_bicialpes.head()"
   ]
  },
  {
   "cell_type": "code",
   "execution_count": 8,
   "metadata": {},
   "outputs": [
    {
     "name": "stdout",
     "output_type": "stream",
     "text": [
      "<class 'pandas.core.frame.DataFrame'>\n",
      "RangeIndex: 5338 entries, 0 to 5337\n",
      "Data columns (total 14 columns):\n",
      " #   Column                                       Non-Null Count  Dtype  \n",
      "---  ------                                       --------------  -----  \n",
      " 0   Time                                         5338 non-null   object \n",
      " 1   Number_of_Casualties                         5338 non-null   int64  \n",
      " 2   Day_of_Week                                  5319 non-null   object \n",
      " 3   Road_Type                                    5338 non-null   int64  \n",
      " 4   Speed_limit                                  5338 non-null   float64\n",
      " 5   Light_Conditions                             5338 non-null   int64  \n",
      " 6   Weather_Conditions                           5338 non-null   int64  \n",
      " 7   Road_Surface_Conditions                      5338 non-null   int64  \n",
      " 8   Urban_or_Rural_Area                          5338 non-null   int64  \n",
      " 9   Vehicle_Type                                 5338 non-null   object \n",
      " 10  Did_Police_Officer_Attend_Scene_of_Accident  5338 non-null   int64  \n",
      " 11  Junction_Detail                              5338 non-null   int64  \n",
      " 12  Number_of_Vehicles                           5338 non-null   int64  \n",
      " 13  Accident_Severity                            5338 non-null   int64  \n",
      "dtypes: float64(1), int64(10), object(3)\n",
      "memory usage: 584.0+ KB\n"
     ]
    }
   ],
   "source": [
    "df_bicialpes.info()"
   ]
  },
  {
   "cell_type": "code",
   "execution_count": 9,
   "metadata": {},
   "outputs": [
    {
     "data": {
      "text/html": [
       "<div>\n",
       "<style scoped>\n",
       "    .dataframe tbody tr th:only-of-type {\n",
       "        vertical-align: middle;\n",
       "    }\n",
       "\n",
       "    .dataframe tbody tr th {\n",
       "        vertical-align: top;\n",
       "    }\n",
       "\n",
       "    .dataframe thead th {\n",
       "        text-align: right;\n",
       "    }\n",
       "</style>\n",
       "<table border=\"1\" class=\"dataframe\">\n",
       "  <thead>\n",
       "    <tr style=\"text-align: right;\">\n",
       "      <th></th>\n",
       "      <th>Number_of_Casualties</th>\n",
       "      <th>Road_Type</th>\n",
       "      <th>Speed_limit</th>\n",
       "      <th>Light_Conditions</th>\n",
       "      <th>Weather_Conditions</th>\n",
       "      <th>Road_Surface_Conditions</th>\n",
       "      <th>Urban_or_Rural_Area</th>\n",
       "      <th>Did_Police_Officer_Attend_Scene_of_Accident</th>\n",
       "      <th>Junction_Detail</th>\n",
       "      <th>Number_of_Vehicles</th>\n",
       "      <th>Accident_Severity</th>\n",
       "    </tr>\n",
       "  </thead>\n",
       "  <tbody>\n",
       "    <tr>\n",
       "      <th>count</th>\n",
       "      <td>5338.000000</td>\n",
       "      <td>5338.000000</td>\n",
       "      <td>5338.000000</td>\n",
       "      <td>5338.000000</td>\n",
       "      <td>5338.000000</td>\n",
       "      <td>5338.000000</td>\n",
       "      <td>5338.000000</td>\n",
       "      <td>5338.000000</td>\n",
       "      <td>5338.000000</td>\n",
       "      <td>5338.000000</td>\n",
       "      <td>5338.000000</td>\n",
       "    </tr>\n",
       "    <tr>\n",
       "      <th>mean</th>\n",
       "      <td>1.118022</td>\n",
       "      <td>5.587486</td>\n",
       "      <td>33.522855</td>\n",
       "      <td>1.712814</td>\n",
       "      <td>1.532222</td>\n",
       "      <td>1.191083</td>\n",
       "      <td>1.243162</td>\n",
       "      <td>1.247096</td>\n",
       "      <td>1.898464</td>\n",
       "      <td>1.001124</td>\n",
       "      <td>2.630761</td>\n",
       "    </tr>\n",
       "    <tr>\n",
       "      <th>std</th>\n",
       "      <td>0.330694</td>\n",
       "      <td>1.416573</td>\n",
       "      <td>10.206576</td>\n",
       "      <td>1.456428</td>\n",
       "      <td>1.760695</td>\n",
       "      <td>0.590522</td>\n",
       "      <td>0.429032</td>\n",
       "      <td>0.453389</td>\n",
       "      <td>2.456249</td>\n",
       "      <td>0.033511</td>\n",
       "      <td>0.518214</td>\n",
       "    </tr>\n",
       "    <tr>\n",
       "      <th>min</th>\n",
       "      <td>1.000000</td>\n",
       "      <td>1.000000</td>\n",
       "      <td>15.000000</td>\n",
       "      <td>1.000000</td>\n",
       "      <td>1.000000</td>\n",
       "      <td>-1.000000</td>\n",
       "      <td>1.000000</td>\n",
       "      <td>-1.000000</td>\n",
       "      <td>-1.000000</td>\n",
       "      <td>1.000000</td>\n",
       "      <td>1.000000</td>\n",
       "    </tr>\n",
       "    <tr>\n",
       "      <th>25%</th>\n",
       "      <td>1.000000</td>\n",
       "      <td>6.000000</td>\n",
       "      <td>30.000000</td>\n",
       "      <td>1.000000</td>\n",
       "      <td>1.000000</td>\n",
       "      <td>1.000000</td>\n",
       "      <td>1.000000</td>\n",
       "      <td>1.000000</td>\n",
       "      <td>0.000000</td>\n",
       "      <td>1.000000</td>\n",
       "      <td>2.000000</td>\n",
       "    </tr>\n",
       "    <tr>\n",
       "      <th>50%</th>\n",
       "      <td>1.000000</td>\n",
       "      <td>6.000000</td>\n",
       "      <td>30.000000</td>\n",
       "      <td>1.000000</td>\n",
       "      <td>1.000000</td>\n",
       "      <td>1.000000</td>\n",
       "      <td>1.000000</td>\n",
       "      <td>1.000000</td>\n",
       "      <td>0.000000</td>\n",
       "      <td>1.000000</td>\n",
       "      <td>3.000000</td>\n",
       "    </tr>\n",
       "    <tr>\n",
       "      <th>75%</th>\n",
       "      <td>1.000000</td>\n",
       "      <td>6.000000</td>\n",
       "      <td>30.000000</td>\n",
       "      <td>1.000000</td>\n",
       "      <td>1.000000</td>\n",
       "      <td>1.000000</td>\n",
       "      <td>1.000000</td>\n",
       "      <td>1.000000</td>\n",
       "      <td>3.000000</td>\n",
       "      <td>1.000000</td>\n",
       "      <td>3.000000</td>\n",
       "    </tr>\n",
       "    <tr>\n",
       "      <th>max</th>\n",
       "      <td>4.000000</td>\n",
       "      <td>9.000000</td>\n",
       "      <td>70.000000</td>\n",
       "      <td>7.000000</td>\n",
       "      <td>9.000000</td>\n",
       "      <td>5.000000</td>\n",
       "      <td>2.000000</td>\n",
       "      <td>3.000000</td>\n",
       "      <td>9.000000</td>\n",
       "      <td>2.000000</td>\n",
       "      <td>3.000000</td>\n",
       "    </tr>\n",
       "  </tbody>\n",
       "</table>\n",
       "</div>"
      ],
      "text/plain": [
       "       Number_of_Casualties    Road_Type  Speed_limit  Light_Conditions  \\\n",
       "count           5338.000000  5338.000000  5338.000000       5338.000000   \n",
       "mean               1.118022     5.587486    33.522855          1.712814   \n",
       "std                0.330694     1.416573    10.206576          1.456428   \n",
       "min                1.000000     1.000000    15.000000          1.000000   \n",
       "25%                1.000000     6.000000    30.000000          1.000000   \n",
       "50%                1.000000     6.000000    30.000000          1.000000   \n",
       "75%                1.000000     6.000000    30.000000          1.000000   \n",
       "max                4.000000     9.000000    70.000000          7.000000   \n",
       "\n",
       "       Weather_Conditions  Road_Surface_Conditions  Urban_or_Rural_Area  \\\n",
       "count         5338.000000              5338.000000          5338.000000   \n",
       "mean             1.532222                 1.191083             1.243162   \n",
       "std              1.760695                 0.590522             0.429032   \n",
       "min              1.000000                -1.000000             1.000000   \n",
       "25%              1.000000                 1.000000             1.000000   \n",
       "50%              1.000000                 1.000000             1.000000   \n",
       "75%              1.000000                 1.000000             1.000000   \n",
       "max              9.000000                 5.000000             2.000000   \n",
       "\n",
       "       Did_Police_Officer_Attend_Scene_of_Accident  Junction_Detail  \\\n",
       "count                                  5338.000000      5338.000000   \n",
       "mean                                      1.247096         1.898464   \n",
       "std                                       0.453389         2.456249   \n",
       "min                                      -1.000000        -1.000000   \n",
       "25%                                       1.000000         0.000000   \n",
       "50%                                       1.000000         0.000000   \n",
       "75%                                       1.000000         3.000000   \n",
       "max                                       3.000000         9.000000   \n",
       "\n",
       "       Number_of_Vehicles  Accident_Severity  \n",
       "count         5338.000000        5338.000000  \n",
       "mean             1.001124           2.630761  \n",
       "std              0.033511           0.518214  \n",
       "min              1.000000           1.000000  \n",
       "25%              1.000000           2.000000  \n",
       "50%              1.000000           3.000000  \n",
       "75%              1.000000           3.000000  \n",
       "max              2.000000           3.000000  "
      ]
     },
     "execution_count": 9,
     "metadata": {},
     "output_type": "execute_result"
    }
   ],
   "source": [
    "df_bicialpes.describe()"
   ]
  },
  {
   "cell_type": "code",
   "execution_count": 10,
   "metadata": {},
   "outputs": [
    {
     "data": {
      "image/png": "[encoded data removed]",
      "text/plain": [
       "<Figure size 2000x800 with 1 Axes>"
      ]
     },
     "metadata": {},
     "output_type": "display_data"
    }
   ],
   "source": [
    "# Visualizacion de las variables numericas y categoricas\n",
    "fig=plt.figure(figsize=(20,8))\n",
    "ax = sns.boxplot(data=df_bicialpes, orient=\"v\")"
   ]
  },
  {
   "cell_type": "code",
   "execution_count": 11,
   "metadata": {},
   "outputs": [
    {
     "data": {
      "image/png": "[encoded data removed]",
      "text/plain": [
       "<Figure size 2000x500 with 1 Axes>"
      ]
     },
     "metadata": {},
     "output_type": "display_data"
    }
   ],
   "source": [
    "# Visualización de las variables numericas\n",
    "fig = plt.figure(figsize=(20,5))\n",
    "data = df_bicialpes[['Number_of_Vehicles','Number_of_Casualties','Speed_limit']]\n",
    "ax = sns.boxplot(data=data, orient=\"v\")"
   ]
  },
  {
   "cell_type": "code",
   "execution_count": 12,
   "metadata": {},
   "outputs": [
    {
     "data": {
      "text/html": [
       "<div>\n",
       "<style scoped>\n",
       "    .dataframe tbody tr th:only-of-type {\n",
       "        vertical-align: middle;\n",
       "    }\n",
       "\n",
       "    .dataframe tbody tr th {\n",
       "        vertical-align: top;\n",
       "    }\n",
       "\n",
       "    .dataframe thead th {\n",
       "        text-align: right;\n",
       "    }\n",
       "</style>\n",
       "<table border=\"1\" class=\"dataframe\">\n",
       "  <thead>\n",
       "    <tr style=\"text-align: right;\">\n",
       "      <th></th>\n",
       "      <th>Number_of_Vehicles</th>\n",
       "      <th>Number_of_Casualties</th>\n",
       "      <th>Speed_limit</th>\n",
       "    </tr>\n",
       "  </thead>\n",
       "  <tbody>\n",
       "    <tr>\n",
       "      <th>count</th>\n",
       "      <td>5338.000000</td>\n",
       "      <td>5338.000000</td>\n",
       "      <td>5338.000000</td>\n",
       "    </tr>\n",
       "    <tr>\n",
       "      <th>mean</th>\n",
       "      <td>1.001124</td>\n",
       "      <td>1.118022</td>\n",
       "      <td>33.522855</td>\n",
       "    </tr>\n",
       "    <tr>\n",
       "      <th>std</th>\n",
       "      <td>0.033511</td>\n",
       "      <td>0.330694</td>\n",
       "      <td>10.206576</td>\n",
       "    </tr>\n",
       "    <tr>\n",
       "      <th>min</th>\n",
       "      <td>1.000000</td>\n",
       "      <td>1.000000</td>\n",
       "      <td>15.000000</td>\n",
       "    </tr>\n",
       "    <tr>\n",
       "      <th>25%</th>\n",
       "      <td>1.000000</td>\n",
       "      <td>1.000000</td>\n",
       "      <td>30.000000</td>\n",
       "    </tr>\n",
       "    <tr>\n",
       "      <th>50%</th>\n",
       "      <td>1.000000</td>\n",
       "      <td>1.000000</td>\n",
       "      <td>30.000000</td>\n",
       "    </tr>\n",
       "    <tr>\n",
       "      <th>75%</th>\n",
       "      <td>1.000000</td>\n",
       "      <td>1.000000</td>\n",
       "      <td>30.000000</td>\n",
       "    </tr>\n",
       "    <tr>\n",
       "      <th>max</th>\n",
       "      <td>2.000000</td>\n",
       "      <td>4.000000</td>\n",
       "      <td>70.000000</td>\n",
       "    </tr>\n",
       "  </tbody>\n",
       "</table>\n",
       "</div>"
      ],
      "text/plain": [
       "       Number_of_Vehicles  Number_of_Casualties  Speed_limit\n",
       "count         5338.000000           5338.000000  5338.000000\n",
       "mean             1.001124              1.118022    33.522855\n",
       "std              0.033511              0.330694    10.206576\n",
       "min              1.000000              1.000000    15.000000\n",
       "25%              1.000000              1.000000    30.000000\n",
       "50%              1.000000              1.000000    30.000000\n",
       "75%              1.000000              1.000000    30.000000\n",
       "max              2.000000              4.000000    70.000000"
      ]
     },
     "execution_count": 12,
     "metadata": {},
     "output_type": "execute_result"
    }
   ],
   "source": [
    "# Revisamos el contenido de las variables numericas\n",
    "df_bicialpes[['Number_of_Vehicles','Number_of_Casualties','Speed_limit']].describe()"
   ]
  },
  {
   "cell_type": "code",
   "execution_count": 13,
   "metadata": {},
   "outputs": [
    {
     "data": {
      "text/plain": [
       "Index(['Number_of_Vehicles', 'Number_of_Casualties'], dtype='object')"
      ]
     },
     "execution_count": 13,
     "metadata": {},
     "output_type": "execute_result"
    }
   ],
   "source": [
    "# Separación de la variable Speed limit (float) de variables int para ver mejor su contenido dada la diferencia de magnitudes en el dominio\n",
    "name_cols_float = data.select_dtypes(include = ['float']).columns\n",
    "name_cols_int = data.select_dtypes(include = ['int64']).columns\n",
    "name_cols_int\n",
    "#name_cols_float"
   ]
  },
  {
   "cell_type": "code",
   "execution_count": 14,
   "metadata": {},
   "outputs": [
    {
     "data": {
      "image/png": "[encoded data removed]",
      "text/plain": [
       "<Figure size 2000x800 with 1 Axes>"
      ]
     },
     "metadata": {},
     "output_type": "display_data"
    }
   ],
   "source": [
    "# Visualización de variables float\n",
    "fig = plt.figure(figsize = (20, 8))\n",
    "ax = sns.boxplot(data=df_bicialpes[name_cols_float], orient = \"v\")"
   ]
  },
  {
   "cell_type": "code",
   "execution_count": 15,
   "metadata": {},
   "outputs": [
    {
     "data": {
      "image/png": "[encoded data removed]",
      "text/plain": [
       "<Figure size 2000x800 with 1 Axes>"
      ]
     },
     "metadata": {},
     "output_type": "display_data"
    }
   ],
   "source": [
    "# Visualización de variables int\n",
    "fig = plt.figure(figsize = (20, 8))\n",
    "ax = sns.boxplot(data=df_bicialpes[name_cols_int], orient = \"v\")"
   ]
  },
  {
   "cell_type": "code",
   "execution_count": 16,
   "metadata": {},
   "outputs": [
    {
     "data": {
      "text/plain": [
       "Index(['Time', 'Day_of_Week', 'Vehicle_Type'], dtype='object')"
      ]
     },
     "execution_count": 16,
     "metadata": {},
     "output_type": "execute_result"
    }
   ],
   "source": [
    "# Exploramos variables que no sean numericas\n",
    "\n",
    "name_cols_non_number = df_bicialpes.select_dtypes(include = ['object']).columns\n",
    "name_cols_non_number"
   ]
  },
  {
   "cell_type": "code",
   "execution_count": 17,
   "metadata": {},
   "outputs": [
    {
     "data": {
      "text/html": [
       "<div>\n",
       "<style scoped>\n",
       "    .dataframe tbody tr th:only-of-type {\n",
       "        vertical-align: middle;\n",
       "    }\n",
       "\n",
       "    .dataframe tbody tr th {\n",
       "        vertical-align: top;\n",
       "    }\n",
       "\n",
       "    .dataframe thead th {\n",
       "        text-align: right;\n",
       "    }\n",
       "</style>\n",
       "<table border=\"1\" class=\"dataframe\">\n",
       "  <thead>\n",
       "    <tr style=\"text-align: right;\">\n",
       "      <th></th>\n",
       "      <th>Time</th>\n",
       "      <th>Day_of_Week</th>\n",
       "      <th>Vehicle_Type</th>\n",
       "    </tr>\n",
       "  </thead>\n",
       "  <tbody>\n",
       "    <tr>\n",
       "      <th>count</th>\n",
       "      <td>5338</td>\n",
       "      <td>5319</td>\n",
       "      <td>5338</td>\n",
       "    </tr>\n",
       "    <tr>\n",
       "      <th>unique</th>\n",
       "      <td>4</td>\n",
       "      <td>2</td>\n",
       "      <td>1</td>\n",
       "    </tr>\n",
       "    <tr>\n",
       "      <th>top</th>\n",
       "      <td>Tarde</td>\n",
       "      <td>Día laboral</td>\n",
       "      <td>bike</td>\n",
       "    </tr>\n",
       "    <tr>\n",
       "      <th>freq</th>\n",
       "      <td>2171</td>\n",
       "      <td>3832</td>\n",
       "      <td>5338</td>\n",
       "    </tr>\n",
       "  </tbody>\n",
       "</table>\n",
       "</div>"
      ],
      "text/plain": [
       "         Time  Day_of_Week Vehicle_Type\n",
       "count    5338         5319         5338\n",
       "unique      4            2            1\n",
       "top     Tarde  Día laboral         bike\n",
       "freq     2171         3832         5338"
      ]
     },
     "execution_count": 17,
     "metadata": {},
     "output_type": "execute_result"
    }
   ],
   "source": [
    "# Revisamos el contenido de las variables no numericas\n",
    "df_bicialpes[name_cols_non_number].describe()"
   ]
  },
  {
   "cell_type": "code",
   "execution_count": 18,
   "metadata": {},
   "outputs": [
    {
     "data": {
      "image/png": "[encoded data removed]",
      "text/plain": [
       "<Figure size 2000x800 with 1 Axes>"
      ]
     },
     "metadata": {},
     "output_type": "display_data"
    }
   ],
   "source": [
    "# Visualización de las variables categoricas Light_Conditions, Weather_Conditions, Road_Surface_Conditions\n",
    "\n",
    "categorical_data = df_bicialpes[['Light_Conditions','Weather_Conditions','Road_Surface_Conditions']]\n",
    "fig = plt.figure(figsize = (20, 8))\n",
    "ax = sns.boxplot( data = categorical_data)\n"
   ]
  },
  {
   "cell_type": "code",
   "execution_count": 19,
   "metadata": {},
   "outputs": [
    {
     "data": {
      "text/html": [
       "<div>\n",
       "<style scoped>\n",
       "    .dataframe tbody tr th:only-of-type {\n",
       "        vertical-align: middle;\n",
       "    }\n",
       "\n",
       "    .dataframe tbody tr th {\n",
       "        vertical-align: top;\n",
       "    }\n",
       "\n",
       "    .dataframe thead th {\n",
       "        text-align: right;\n",
       "    }\n",
       "</style>\n",
       "<table border=\"1\" class=\"dataframe\">\n",
       "  <thead>\n",
       "    <tr style=\"text-align: right;\">\n",
       "      <th></th>\n",
       "      <th>Light_Conditions</th>\n",
       "      <th>Weather_Conditions</th>\n",
       "      <th>Road_Surface_Conditions</th>\n",
       "    </tr>\n",
       "  </thead>\n",
       "  <tbody>\n",
       "    <tr>\n",
       "      <th>count</th>\n",
       "      <td>5338.000000</td>\n",
       "      <td>5338.000000</td>\n",
       "      <td>5338.000000</td>\n",
       "    </tr>\n",
       "    <tr>\n",
       "      <th>mean</th>\n",
       "      <td>1.712814</td>\n",
       "      <td>1.532222</td>\n",
       "      <td>1.191083</td>\n",
       "    </tr>\n",
       "    <tr>\n",
       "      <th>std</th>\n",
       "      <td>1.456428</td>\n",
       "      <td>1.760695</td>\n",
       "      <td>0.590522</td>\n",
       "    </tr>\n",
       "    <tr>\n",
       "      <th>min</th>\n",
       "      <td>1.000000</td>\n",
       "      <td>1.000000</td>\n",
       "      <td>-1.000000</td>\n",
       "    </tr>\n",
       "    <tr>\n",
       "      <th>25%</th>\n",
       "      <td>1.000000</td>\n",
       "      <td>1.000000</td>\n",
       "      <td>1.000000</td>\n",
       "    </tr>\n",
       "    <tr>\n",
       "      <th>50%</th>\n",
       "      <td>1.000000</td>\n",
       "      <td>1.000000</td>\n",
       "      <td>1.000000</td>\n",
       "    </tr>\n",
       "    <tr>\n",
       "      <th>75%</th>\n",
       "      <td>1.000000</td>\n",
       "      <td>1.000000</td>\n",
       "      <td>1.000000</td>\n",
       "    </tr>\n",
       "    <tr>\n",
       "      <th>max</th>\n",
       "      <td>7.000000</td>\n",
       "      <td>9.000000</td>\n",
       "      <td>5.000000</td>\n",
       "    </tr>\n",
       "  </tbody>\n",
       "</table>\n",
       "</div>"
      ],
      "text/plain": [
       "       Light_Conditions  Weather_Conditions  Road_Surface_Conditions\n",
       "count       5338.000000         5338.000000              5338.000000\n",
       "mean           1.712814            1.532222                 1.191083\n",
       "std            1.456428            1.760695                 0.590522\n",
       "min            1.000000            1.000000                -1.000000\n",
       "25%            1.000000            1.000000                 1.000000\n",
       "50%            1.000000            1.000000                 1.000000\n",
       "75%            1.000000            1.000000                 1.000000\n",
       "max            7.000000            9.000000                 5.000000"
      ]
     },
     "execution_count": 19,
     "metadata": {},
     "output_type": "execute_result"
    }
   ],
   "source": [
    "# Revisamos el contenido de las variables categoricas Light_Conditions, Weather_Conditions, Road_Surface_Conditions\n",
    "categorical_data.describe()"
   ]
  },
  {
   "attachments": {},
   "cell_type": "markdown",
   "metadata": {},
   "source": [
    "## 2. Preparación de los datos"
   ]
  },
  {
   "attachments": {},
   "cell_type": "markdown",
   "metadata": {},
   "source": [
    "### 2.1 Completitud"
   ]
  },
  {
   "cell_type": "code",
   "execution_count": 20,
   "metadata": {},
   "outputs": [
    {
     "data": {
      "text/plain": [
       "Day_of_Week                                    0.003559\n",
       "Time                                           0.000000\n",
       "Number_of_Casualties                           0.000000\n",
       "Road_Type                                      0.000000\n",
       "Speed_limit                                    0.000000\n",
       "Light_Conditions                               0.000000\n",
       "Weather_Conditions                             0.000000\n",
       "Road_Surface_Conditions                        0.000000\n",
       "Urban_or_Rural_Area                            0.000000\n",
       "Vehicle_Type                                   0.000000\n",
       "Did_Police_Officer_Attend_Scene_of_Accident    0.000000\n",
       "Junction_Detail                                0.000000\n",
       "Number_of_Vehicles                             0.000000\n",
       "Accident_Severity                              0.000000\n",
       "dtype: float64"
      ]
     },
     "execution_count": 20,
     "metadata": {},
     "output_type": "execute_result"
    }
   ],
   "source": [
    "# Se calcula el porcentaje de valores nulos por columna\n",
    "(df_bicialpes.isnull().sum()/df_bicialpes.shape[0]).sort_values(ascending=False)"
   ]
  },
  {
   "attachments": {},
   "cell_type": "markdown",
   "metadata": {},
   "source": [
    "### 2.2 Unicidad / Duplicidad\n",
    "\n",
    "Para este caso, no importa si hay valores duplicados pues es posible que ocurra más de un accidente bajo las mismas condiciones que otro."
   ]
  },
  {
   "attachments": {},
   "cell_type": "markdown",
   "metadata": {},
   "source": [
    "### 2.3 Consistencia\n",
    "#### 2.3.1 Categóricos\n",
    "La mayoría de los datos están completos, es decir, no tienen campos nulos. Aunque el campo Day_of_week presenta un porcentaje de nulos, esta información no la consideramos relevante puesto que un dia de la semana no es determinante de un accidente vial"
   ]
  },
  {
   "cell_type": "code",
   "execution_count": 32,
   "metadata": {},
   "outputs": [
    {
     "data": {
      "text/plain": [
       "Tarde        2171\n",
       "Mañana       1684\n",
       "Noche        1477\n",
       "Madrugada       6\n",
       "Name: Time, dtype: int64"
      ]
     },
     "execution_count": 32,
     "metadata": {},
     "output_type": "execute_result"
    }
   ],
   "source": [
    "#VERIFICAMOS LOS VALORES DE TIME\n",
    "df_bicialpes['Time'].value_counts()"
   ]
  },
  {
   "cell_type": "code",
   "execution_count": 33,
   "metadata": {},
   "outputs": [
    {
     "data": {
      "text/plain": [
       "Día laboral      3832\n",
       "Fin de semana    1487\n",
       "Name: Day_of_Week, dtype: int64"
      ]
     },
     "execution_count": 33,
     "metadata": {},
     "output_type": "execute_result"
    }
   ],
   "source": [
    "#VERIFICAMOS LOS VALORES DE DAY OF WEEK\n",
    "df_bicialpes['Day_of_Week'].value_counts()"
   ]
  },
  {
   "cell_type": "code",
   "execution_count": 34,
   "metadata": {},
   "outputs": [
    {
     "data": {
      "text/plain": [
       "bike    5338\n",
       "Name: Vehicle_Type, dtype: int64"
      ]
     },
     "execution_count": 34,
     "metadata": {},
     "output_type": "execute_result"
    }
   ],
   "source": [
    "#VERIFICAMOS LOS VALORES DE VEHICLE TYPE\n",
    "df_bicialpes['Vehicle_Type'].value_counts()"
   ]
  },
  {
   "attachments": {},
   "cell_type": "markdown",
   "metadata": {},
   "source": [
    "#### 2.3.2 Númericos"
   ]
  },
  {
   "cell_type": "code",
   "execution_count": 41,
   "metadata": {},
   "outputs": [
    {
     "data": {
      "text/html": [
       "<div>\n",
       "<style scoped>\n",
       "    .dataframe tbody tr th:only-of-type {\n",
       "        vertical-align: middle;\n",
       "    }\n",
       "\n",
       "    .dataframe tbody tr th {\n",
       "        vertical-align: top;\n",
       "    }\n",
       "\n",
       "    .dataframe thead th {\n",
       "        text-align: right;\n",
       "    }\n",
       "</style>\n",
       "<table border=\"1\" class=\"dataframe\">\n",
       "  <thead>\n",
       "    <tr style=\"text-align: right;\">\n",
       "      <th></th>\n",
       "      <th>Number_of_Casualties</th>\n",
       "      <th>Road_Type</th>\n",
       "      <th>Speed_limit</th>\n",
       "      <th>Light_Conditions</th>\n",
       "      <th>Weather_Conditions</th>\n",
       "      <th>Road_Surface_Conditions</th>\n",
       "      <th>Urban_or_Rural_Area</th>\n",
       "      <th>Did_Police_Officer_Attend_Scene_of_Accident</th>\n",
       "      <th>Junction_Detail</th>\n",
       "      <th>Number_of_Vehicles</th>\n",
       "      <th>Accident_Severity</th>\n",
       "      <th>Cluster</th>\n",
       "    </tr>\n",
       "  </thead>\n",
       "  <tbody>\n",
       "    <tr>\n",
       "      <th>count</th>\n",
       "      <td>5338.000000</td>\n",
       "      <td>5338.000000</td>\n",
       "      <td>5338.000000</td>\n",
       "      <td>5338.000000</td>\n",
       "      <td>5338.000000</td>\n",
       "      <td>5338.000000</td>\n",
       "      <td>5338.000000</td>\n",
       "      <td>5338.000000</td>\n",
       "      <td>5338.000000</td>\n",
       "      <td>5338.000000</td>\n",
       "      <td>5338.000000</td>\n",
       "      <td>5338.000000</td>\n",
       "    </tr>\n",
       "    <tr>\n",
       "      <th>mean</th>\n",
       "      <td>1.118022</td>\n",
       "      <td>5.587486</td>\n",
       "      <td>33.522855</td>\n",
       "      <td>1.712814</td>\n",
       "      <td>1.532222</td>\n",
       "      <td>1.191083</td>\n",
       "      <td>1.243162</td>\n",
       "      <td>1.247096</td>\n",
       "      <td>1.898464</td>\n",
       "      <td>1.001124</td>\n",
       "      <td>2.630761</td>\n",
       "      <td>0.565942</td>\n",
       "    </tr>\n",
       "    <tr>\n",
       "      <th>std</th>\n",
       "      <td>0.330694</td>\n",
       "      <td>1.416573</td>\n",
       "      <td>10.206576</td>\n",
       "      <td>1.456428</td>\n",
       "      <td>1.760695</td>\n",
       "      <td>0.590522</td>\n",
       "      <td>0.429032</td>\n",
       "      <td>0.453389</td>\n",
       "      <td>2.456249</td>\n",
       "      <td>0.033511</td>\n",
       "      <td>0.518214</td>\n",
       "      <td>0.495679</td>\n",
       "    </tr>\n",
       "    <tr>\n",
       "      <th>min</th>\n",
       "      <td>1.000000</td>\n",
       "      <td>1.000000</td>\n",
       "      <td>15.000000</td>\n",
       "      <td>1.000000</td>\n",
       "      <td>1.000000</td>\n",
       "      <td>-1.000000</td>\n",
       "      <td>1.000000</td>\n",
       "      <td>-1.000000</td>\n",
       "      <td>-1.000000</td>\n",
       "      <td>1.000000</td>\n",
       "      <td>1.000000</td>\n",
       "      <td>0.000000</td>\n",
       "    </tr>\n",
       "    <tr>\n",
       "      <th>25%</th>\n",
       "      <td>1.000000</td>\n",
       "      <td>6.000000</td>\n",
       "      <td>30.000000</td>\n",
       "      <td>1.000000</td>\n",
       "      <td>1.000000</td>\n",
       "      <td>1.000000</td>\n",
       "      <td>1.000000</td>\n",
       "      <td>1.000000</td>\n",
       "      <td>0.000000</td>\n",
       "      <td>1.000000</td>\n",
       "      <td>2.000000</td>\n",
       "      <td>0.000000</td>\n",
       "    </tr>\n",
       "    <tr>\n",
       "      <th>50%</th>\n",
       "      <td>1.000000</td>\n",
       "      <td>6.000000</td>\n",
       "      <td>30.000000</td>\n",
       "      <td>1.000000</td>\n",
       "      <td>1.000000</td>\n",
       "      <td>1.000000</td>\n",
       "      <td>1.000000</td>\n",
       "      <td>1.000000</td>\n",
       "      <td>0.000000</td>\n",
       "      <td>1.000000</td>\n",
       "      <td>3.000000</td>\n",
       "      <td>1.000000</td>\n",
       "    </tr>\n",
       "    <tr>\n",
       "      <th>75%</th>\n",
       "      <td>1.000000</td>\n",
       "      <td>6.000000</td>\n",
       "      <td>30.000000</td>\n",
       "      <td>1.000000</td>\n",
       "      <td>1.000000</td>\n",
       "      <td>1.000000</td>\n",
       "      <td>1.000000</td>\n",
       "      <td>1.000000</td>\n",
       "      <td>3.000000</td>\n",
       "      <td>1.000000</td>\n",
       "      <td>3.000000</td>\n",
       "      <td>1.000000</td>\n",
       "    </tr>\n",
       "    <tr>\n",
       "      <th>max</th>\n",
       "      <td>4.000000</td>\n",
       "      <td>9.000000</td>\n",
       "      <td>70.000000</td>\n",
       "      <td>7.000000</td>\n",
       "      <td>9.000000</td>\n",
       "      <td>5.000000</td>\n",
       "      <td>2.000000</td>\n",
       "      <td>3.000000</td>\n",
       "      <td>9.000000</td>\n",
       "      <td>2.000000</td>\n",
       "      <td>3.000000</td>\n",
       "      <td>1.000000</td>\n",
       "    </tr>\n",
       "  </tbody>\n",
       "</table>\n",
       "</div>"
      ],
      "text/plain": [
       "       Number_of_Casualties    Road_Type  Speed_limit  Light_Conditions  \\\n",
       "count           5338.000000  5338.000000  5338.000000       5338.000000   \n",
       "mean               1.118022     5.587486    33.522855          1.712814   \n",
       "std                0.330694     1.416573    10.206576          1.456428   \n",
       "min                1.000000     1.000000    15.000000          1.000000   \n",
       "25%                1.000000     6.000000    30.000000          1.000000   \n",
       "50%                1.000000     6.000000    30.000000          1.000000   \n",
       "75%                1.000000     6.000000    30.000000          1.000000   \n",
       "max                4.000000     9.000000    70.000000          7.000000   \n",
       "\n",
       "       Weather_Conditions  Road_Surface_Conditions  Urban_or_Rural_Area  \\\n",
       "count         5338.000000              5338.000000          5338.000000   \n",
       "mean             1.532222                 1.191083             1.243162   \n",
       "std              1.760695                 0.590522             0.429032   \n",
       "min              1.000000                -1.000000             1.000000   \n",
       "25%              1.000000                 1.000000             1.000000   \n",
       "50%              1.000000                 1.000000             1.000000   \n",
       "75%              1.000000                 1.000000             1.000000   \n",
       "max              9.000000                 5.000000             2.000000   \n",
       "\n",
       "       Did_Police_Officer_Attend_Scene_of_Accident  Junction_Detail  \\\n",
       "count                                  5338.000000      5338.000000   \n",
       "mean                                      1.247096         1.898464   \n",
       "std                                       0.453389         2.456249   \n",
       "min                                      -1.000000        -1.000000   \n",
       "25%                                       1.000000         0.000000   \n",
       "50%                                       1.000000         0.000000   \n",
       "75%                                       1.000000         3.000000   \n",
       "max                                       3.000000         9.000000   \n",
       "\n",
       "       Number_of_Vehicles  Accident_Severity      Cluster  \n",
       "count         5338.000000        5338.000000  5338.000000  \n",
       "mean             1.001124           2.630761     0.565942  \n",
       "std              0.033511           0.518214     0.495679  \n",
       "min              1.000000           1.000000     0.000000  \n",
       "25%              1.000000           2.000000     0.000000  \n",
       "50%              1.000000           3.000000     1.000000  \n",
       "75%              1.000000           3.000000     1.000000  \n",
       "max              2.000000           3.000000     1.000000  "
      ]
     },
     "execution_count": 41,
     "metadata": {},
     "output_type": "execute_result"
    }
   ],
   "source": [
    "#VERIFICAMOS LOS VALORES NUMERICOS PARA SABER SI LOS VALORES SON CONSISTENTES\n",
    "number_cols = df_bicialpes.dtypes[(df_bicialpes.dtypes == np.int64) | (df_bicialpes.dtypes == np.float64)].index\n",
    "number_cols = df_bicialpes.select_dtypes(include = ['int','float']).columns\n",
    "df_bicialpes[number_cols].describe()"
   ]
  },
  {
   "attachments": {},
   "cell_type": "markdown",
   "metadata": {},
   "source": [
    "### 2.4 Validez / Estandarización\n",
    "#### Todos los datos cumplen con la estandarización"
   ]
  },
  {
   "attachments": {},
   "cell_type": "markdown",
   "metadata": {},
   "source": [
    "## 3. Modelamiento"
   ]
  },
  {
   "cell_type": "markdown",
   "metadata": {},
   "source": [
    "### 3.1 Selección de variables \n",
    "Para este caso se tomarán inicialmente 2 variables, las cuales son categoricas. Estas son weather condition y Junction detail, puesto que consideramos determinantes estas variables en los accidentes viales de bicicletas\n"
   ]
  },
  {
   "cell_type": "code",
   "execution_count": 22,
   "metadata": {},
   "outputs": [],
   "source": [
    "selected_cols=['Weather_Conditions','Junction_Detail']"
   ]
  },
  {
   "cell_type": "markdown",
   "metadata": {},
   "source": [
    "## 3.2 Preparación de los datos \n",
    "Debido a que usaremos algoritmos que requieren datos númericos, es necesario convertir los datos categoricos a numeros. Sin embargo, los datos categoricos ya están transformados en números"
   ]
  },
  {
   "cell_type": "code",
   "execution_count": 23,
   "metadata": {},
   "outputs": [
    {
     "data": {
      "text/plain": [
       "<seaborn.axisgrid.PairGrid at 0x1334cb370>"
      ]
     },
     "execution_count": 23,
     "metadata": {},
     "output_type": "execute_result"
    },
    {
     "data": {
      "image/png": "[encoded data removed]",
      "text/plain": [
       "<Figure size 600x600 with 6 Axes>"
      ]
     },
     "metadata": {},
     "output_type": "display_data"
    }
   ],
   "source": [
    "sns.pairplot(df_bicialpes, height=3,vars=selected_cols,kind='scatter')\n"
   ]
  },
  {
   "cell_type": "markdown",
   "metadata": {},
   "source": [
    "## 3.3 Construcción de modelos\n",
    "## 3.3.1 Construcción K-means()\n"
   ]
  },
  {
   "cell_type": "markdown",
   "metadata": {},
   "source": [
    "### 3.3.1.1 Ajuste del modelo\n"
   ]
  },
  {
   "cell_type": "code",
   "execution_count": 24,
   "metadata": {},
   "outputs": [
    {
     "name": "stderr",
     "output_type": "stream",
     "text": [
      "/Users/juansebastian/.pyenv/versions/3.9.0/lib/python3.9/site-packages/sklearn/cluster/_kmeans.py:870: FutureWarning: The default value of `n_init` will change from 10 to 'auto' in 1.4. Set the value of `n_init` explicitly to suppress the warning\n",
      "  warnings.warn(\n"
     ]
    }
   ],
   "source": [
    "# Debido a que empezaremos despacio, usaremos solamente 2 clusters\n",
    "kmeans = KMeans(n_clusters=2, random_state=0) # 2 clusters\n",
    "\n",
    "\n",
    "kmeansp = kmeans.fit(df_bicialpes[selected_cols]) # las columnas seleccionadas fueron las que se graficaron en el parplot"
   ]
  },
  {
   "cell_type": "code",
   "execution_count": 25,
   "metadata": {},
   "outputs": [
    {
     "data": {
      "text/plain": [
       "array([[1, 3],\n",
       "       [1, 0],\n",
       "       [1, 3],\n",
       "       ...,\n",
       "       [5, 3],\n",
       "       [1, 6],\n",
       "       [1, 0]])"
      ]
     },
     "execution_count": 25,
     "metadata": {},
     "output_type": "execute_result"
    }
   ],
   "source": [
    "cols_number=df_bicialpes[selected_cols].to_numpy() # convertimos las columnas seleccionadas a un arreglo de numpy\n",
    "cols_number"
   ]
  },
  {
   "cell_type": "markdown",
   "metadata": {},
   "source": [
    "### 3.3.1.2 Visualización del resultado\n"
   ]
  },
  {
   "cell_type": "code",
   "execution_count": 26,
   "metadata": {},
   "outputs": [
    {
     "data": {
      "image/png": "[encoded data removed]",
      "text/plain": [
       "<Figure size 1200x800 with 1 Axes>"
      ]
     },
     "metadata": {},
     "output_type": "display_data"
    }
   ],
   "source": [
    "labels=kmeansp.labels_ # obtenemos los labels de los clusters\n",
    "df_bicialpes['Cluster']=labels # agregamos los labels a nuestro dataframe\n",
    "cluster_distrib=df_bicialpes['Cluster'].value_counts() # obtenemos la distribucion de los clusters\n",
    "\n",
    "fig=plt.figure(figsize=(12,8))\n",
    "sns.barplot(x=cluster_distrib.index, y=cluster_distrib.values, color='y');"
   ]
  },
  {
   "cell_type": "code",
   "execution_count": 27,
   "metadata": {},
   "outputs": [
    {
     "data": {
      "text/html": [
       "<div>\n",
       "<style scoped>\n",
       "    .dataframe tbody tr th:only-of-type {\n",
       "        vertical-align: middle;\n",
       "    }\n",
       "\n",
       "    .dataframe tbody tr th {\n",
       "        vertical-align: top;\n",
       "    }\n",
       "\n",
       "    .dataframe thead th {\n",
       "        text-align: right;\n",
       "    }\n",
       "</style>\n",
       "<table border=\"1\" class=\"dataframe\">\n",
       "  <thead>\n",
       "    <tr style=\"text-align: right;\">\n",
       "      <th></th>\n",
       "      <th>Time</th>\n",
       "      <th>Number_of_Casualties</th>\n",
       "      <th>Day_of_Week</th>\n",
       "      <th>Road_Type</th>\n",
       "      <th>Speed_limit</th>\n",
       "      <th>Light_Conditions</th>\n",
       "      <th>Weather_Conditions</th>\n",
       "      <th>Road_Surface_Conditions</th>\n",
       "      <th>Urban_or_Rural_Area</th>\n",
       "      <th>Vehicle_Type</th>\n",
       "      <th>Did_Police_Officer_Attend_Scene_of_Accident</th>\n",
       "      <th>Junction_Detail</th>\n",
       "      <th>Number_of_Vehicles</th>\n",
       "      <th>Accident_Severity</th>\n",
       "    </tr>\n",
       "    <tr>\n",
       "      <th>Cluster</th>\n",
       "      <th></th>\n",
       "      <th></th>\n",
       "      <th></th>\n",
       "      <th></th>\n",
       "      <th></th>\n",
       "      <th></th>\n",
       "      <th></th>\n",
       "      <th></th>\n",
       "      <th></th>\n",
       "      <th></th>\n",
       "      <th></th>\n",
       "      <th></th>\n",
       "      <th></th>\n",
       "      <th></th>\n",
       "    </tr>\n",
       "  </thead>\n",
       "  <tbody>\n",
       "    <tr>\n",
       "      <th>0</th>\n",
       "      <td>2317</td>\n",
       "      <td>2317</td>\n",
       "      <td>2310</td>\n",
       "      <td>2317</td>\n",
       "      <td>2317</td>\n",
       "      <td>2317</td>\n",
       "      <td>2317</td>\n",
       "      <td>2317</td>\n",
       "      <td>2317</td>\n",
       "      <td>2317</td>\n",
       "      <td>2317</td>\n",
       "      <td>2317</td>\n",
       "      <td>2317</td>\n",
       "      <td>2317</td>\n",
       "    </tr>\n",
       "    <tr>\n",
       "      <th>1</th>\n",
       "      <td>3021</td>\n",
       "      <td>3021</td>\n",
       "      <td>3009</td>\n",
       "      <td>3021</td>\n",
       "      <td>3021</td>\n",
       "      <td>3021</td>\n",
       "      <td>3021</td>\n",
       "      <td>3021</td>\n",
       "      <td>3021</td>\n",
       "      <td>3021</td>\n",
       "      <td>3021</td>\n",
       "      <td>3021</td>\n",
       "      <td>3021</td>\n",
       "      <td>3021</td>\n",
       "    </tr>\n",
       "  </tbody>\n",
       "</table>\n",
       "</div>"
      ],
      "text/plain": [
       "         Time  Number_of_Casualties  Day_of_Week  Road_Type  Speed_limit  \\\n",
       "Cluster                                                                    \n",
       "0        2317                  2317         2310       2317         2317   \n",
       "1        3021                  3021         3009       3021         3021   \n",
       "\n",
       "         Light_Conditions  Weather_Conditions  Road_Surface_Conditions  \\\n",
       "Cluster                                                                  \n",
       "0                    2317                2317                     2317   \n",
       "1                    3021                3021                     3021   \n",
       "\n",
       "         Urban_or_Rural_Area  Vehicle_Type  \\\n",
       "Cluster                                      \n",
       "0                       2317          2317   \n",
       "1                       3021          3021   \n",
       "\n",
       "         Did_Police_Officer_Attend_Scene_of_Accident  Junction_Detail  \\\n",
       "Cluster                                                                 \n",
       "0                                               2317             2317   \n",
       "1                                               3021             3021   \n",
       "\n",
       "         Number_of_Vehicles  Accident_Severity  \n",
       "Cluster                                         \n",
       "0                      2317               2317  \n",
       "1                      3021               3021  "
      ]
     },
     "execution_count": 27,
     "metadata": {},
     "output_type": "execute_result"
    }
   ],
   "source": [
    "# Revisar el número exacto de elementos por clúster y las variables utilizadas.\n",
    "df_bicialpes.groupby('Cluster').count()"
   ]
  },
  {
   "cell_type": "code",
   "execution_count": 28,
   "metadata": {},
   "outputs": [
    {
     "data": {
      "image/png": "[encoded data removed]",
      "text/plain": [
       "<Figure size 640x480 with 1 Axes>"
      ]
     },
     "metadata": {},
     "output_type": "display_data"
    }
   ],
   "source": [
    "# Ver gráficamente los elementos de los diferentes clúster\n",
    "plt.scatter(cols_number[kmeans.labels_ == 0, 0], cols_number[kmeans.labels_ == 0, 1], s = 100, marker='v', c = 'red', label = 'Cluster 1')\n",
    "plt.scatter(cols_number[kmeans.labels_ == 1, 0], cols_number[kmeans.labels_ == 1, 1], s = 100, marker='o', c = 'blue', label = 'Cluster 2')\n",
    "plt.scatter(kmeans.cluster_centers_[:, 0], kmeans.cluster_centers_[:, 1], s = 100, c = 'yellow', label = 'Centroids')\n",
    "plt.title('Clusters of songs')\n",
    "plt.xlabel(selected_cols[0])\n",
    "plt.ylabel(selected_cols[1])\n",
    "plt.legend()\n",
    "plt.show()"
   ]
  },
  {
   "cell_type": "code",
   "execution_count": 29,
   "metadata": {},
   "outputs": [
    {
     "name": "stdout",
     "output_type": "stream",
     "text": [
      "Centroides: [[ Weather_Conditions   Junction_Detail ]] [[1.48338369 4.26931377]\n",
      " [1.56967891 0.08010593]]\n"
     ]
    }
   ],
   "source": [
    "# Revisemos los valores de los centroides de los clústeres generados\n",
    "print('Centroides: [[',selected_cols[0], ' ' , selected_cols[1], ']]', kmeans.cluster_centers_)"
   ]
  },
  {
   "cell_type": "markdown",
   "metadata": {},
   "source": [
    "### 3.3.1.3 Número optimo de clusteres de acuerdo al metodo del codo"
   ]
  },
  {
   "cell_type": "code",
   "execution_count": 30,
   "metadata": {},
   "outputs": [],
   "source": [
    "def plot_distortion(data,\n",
    "                    k_min=1, \n",
    "                    k_max=11,\n",
    "                    ylabel = 'Distortion',\n",
    "                    xlabel = 'Number of clusters',\n",
    "                    title = 'Distortion Plot'):\n",
    "    '''\n",
    "    Graficar el codo de los clusters\n",
    "    \n",
    "    Parametros\n",
    "    ----------\n",
    "    data : np.array\n",
    "        El arreglo con los datos\n",
    "    k_min : int\n",
    "        Valor mínimo para k\n",
    "    k_max : int\n",
    "        Valor máximo para k\n",
    "    xlabel : string\n",
    "        La etiqueta del eje x\n",
    "    ylabel  string\n",
    "        La etiqueta del eje y    \n",
    "    title : string\n",
    "        El titulo de la gráfica  \n",
    "    '''\n",
    "    distortions = []\n",
    "    for i in range(k_min, k_max):\n",
    "        km = KMeans(n_clusters=i,\n",
    "                 init='k-means++',\n",
    "                 n_init=10,\n",
    "                 max_iter=300,\n",
    "                 random_state=0)\n",
    "        km.fit(data)\n",
    "        distortions.append(km.inertia_)\n",
    "    plt.plot(range(k_min,k_max), distortions, marker='o')\n",
    "    plt.xlabel(xlabel)\n",
    "    plt.ylabel(ylabel)\n",
    "    plt.show()"
   ]
  },
  {
   "cell_type": "code",
   "execution_count": 31,
   "metadata": {},
   "outputs": [
    {
     "data": {
      "image/png": "[encoded data removed]",
      "text/plain": [
       "<Figure size 640x480 with 1 Axes>"
      ]
     },
     "metadata": {},
     "output_type": "display_data"
    }
   ],
   "source": [
    "plot_distortion(df_bicialpes[selected_cols],1,11)"
   ]
  },
  {
   "attachments": {},
   "cell_type": "markdown",
   "metadata": {},
   "source": [
    "## 4. Validación"
   ]
  },
  {
   "cell_type": "code",
   "execution_count": null,
   "metadata": {},
   "outputs": [],
   "source": []
  },
  {
   "attachments": {},
   "cell_type": "markdown",
   "metadata": {},
   "source": [
    "### 4.1 Validación cuantitativa"
   ]
  },
  {
   "attachments": {},
   "cell_type": "markdown",
   "metadata": {},
   "source": [
    "### 4.2 Validación cualitativa"
   ]
  },
  {
   "attachments": {},
   "cell_type": "markdown",
   "metadata": {},
   "source": [
    "## 5. Visualización"
   ]
  },
  {
   "cell_type": "code",
   "execution_count": null,
   "metadata": {},
   "outputs": [],
   "source": []
  }
 ],
 "metadata": {
  "kernelspec": {
   "display_name": "Python 3",
   "language": "python",
   "name": "python3"
  },
  "language_info": {
   "codemirror_mode": {
    "name": "ipython",
    "version": 3
   },
   "file_extension": ".py",
   "mimetype": "text/x-python",
   "name": "python",
   "nbconvert_exporter": "python",
   "pygments_lexer": "ipython3",
   "version": "3.9.0"
  },
  "orig_nbformat": 4,
  "vscode": {
   "interpreter": {
    "hash": "363cad76262ab05029beffcd829ad53f4d0da18795f354ebbb5a49863ee6fe9f"
   }
  }
 },
 "nbformat": 4,
 "nbformat_minor": 2
}
